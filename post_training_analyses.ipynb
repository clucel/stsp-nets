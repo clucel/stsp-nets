{
 "cells": [
  {
   "cell_type": "markdown",
   "id": "2516e1f9-cb61-4657-941f-70523e075810",
   "metadata": {},
   "source": [
    "HePlas1-3 and HeDep1-3 are the comparable ones; all same parameters for training, all trained on difficulty level 2"
   ]
  },
  {
   "cell_type": "code",
   "execution_count": null,
   "id": "411dcd4a-6167-4b1e-86eb-1bb51181329f",
   "metadata": {},
   "outputs": [],
   "source": [
    "from networks import DMTSNet #stsp and fixed (same but no x+u) networks\n",
    "from spatial_task import DMTSDataModule #spatial version, distraction code removed\n",
    "import torch\n",
    "import numpy as np\n",
    "import os\n",
    "import matplotlib.pyplot as plt\n",
    "os.environ[\"KMP_DUPLICATE_LIB_OK\"]=\"TRUE\" #fix for weird issue where matplotlib kills  kernel\n",
    "\n",
    "import time"
   ]
  },
  {
   "cell_type": "code",
   "execution_count": null,
   "id": "601d5cfb-6531-4999-a914-884dd9411a5d",
   "metadata": {},
   "outputs": [],
   "source": [
    "def load_models(checkpoints, ckpt_dir):\n",
    "    '''\n",
    "    load models from a list of checkpoint files into a dictionary along with parameters;\n",
    "    nested dictionary format:\n",
    "        models_dict\n",
    "            label\n",
    "                model : model\n",
    "                params : param_dict\n",
    "    '''\n",
    "    \n",
    "    models_dict = {}\n",
    "\n",
    "    for ckpt in checkpoints:\n",
    "        \n",
    "        model = DMTSNet.load_from_checkpoint(os.path.join(ckpt_dir, ckpt))\n",
    "        \n",
    "        ## read parameter values from checkpoint filename\n",
    "        params = ckpt.split('_') #edit; this will become '-'\n",
    "        params_dict = {\n",
    "            'label' : params[0],\n",
    "            'rnn' : params[1],\n",
    "            'nonlinearity' : params[2],\n",
    "            'hidden size' : params[3],\n",
    "            'gamma' : params[4],\n",
    "            'learning rate' : params[5],\n",
    "            'act reg' : params[6],\n",
    "            'param reg' : params[7],\n",
    "            'init method' : params[8],\n",
    "            'noise level' : params[9],\n",
    "            'difficulty level' : params[10],\n",
    "            'optimizer' : params[11],\n",
    "            'batch size' : params[12][:2], #edit...\n",
    "            'eps to finish' : int(params[12][8:10]), #edit...\n",
    "            'accuracy' : params[13][4:8],  #edit...\n",
    "        }\n",
    "        \n",
    "        '''\n",
    "        note to self: a lot of the above info is also (more easily) accessible\n",
    "        directly from the model; i.e. model.rnn.hidden_size, model.rnn.lr;\n",
    "        can see all attributes with model.rnn.__dict__\n",
    "        '''\n",
    "        \n",
    "        models_dict[params_dict['label']] = {\n",
    "            'model' : model,\n",
    "            'params' : params_dict\n",
    "        }\n",
    "        \n",
    "    return models_dict"
   ]
  },
  {
   "cell_type": "code",
   "execution_count": null,
   "id": "bb3807a5-34ad-4cb0-be0a-41f4ae55bb27",
   "metadata": {},
   "outputs": [],
   "source": [
    "plas_nets = ['HePlas'+str(x) for x in range(1,4)]\n",
    "dep_nets = ['HeDep'+str(x) for x in range(1,4)]"
   ]
  },
  {
   "cell_type": "code",
   "execution_count": null,
   "id": "9b76e506-6c9e-422f-aeb8-d3f1f1ab2289",
   "metadata": {},
   "outputs": [],
   "source": [
    "## specify which models to load by label at start of filename\n",
    "plas_nets = ['HePlas'+str(x) for x in range(1,4)]\n",
    "dep_nets = ['HeDep'+str(x) for x in range(1,4)]\n",
    "ckpt_dir = '_lightning_sandbox\\checkpoints'\n",
    "\n",
    "## find models with matching labels in the checkpoint directory\n",
    "load_checkpoints = []\n",
    "for label in plas_nets+dep_nets:\n",
    "    load_checkpoints += [ckpt for ckpt in os.listdir(ckpt_dir) if ckpt.startswith(label)]\n",
    "\n",
    "print(\"loading the following models:\")\n",
    "for n in load_checkpoints: print('    '+n+'/n')\n",
    "\n",
    "## load the selected models into a dictionary of { [label]: {[model],[params]} } nested dictionary format\n",
    "models_dict = load_models(load_checkpoints, ckpt_dir)\n",
    "\n",
    "## check that all models were loaded\n",
    "if len(load_checkpoints) == len(models_dict.keys()): print('loading successful!')\n",
    "else: print('something is missing...')"
   ]
  },
  {
   "cell_type": "code",
   "execution_count": null,
   "id": "4938121a-f553-4ed8-aef5-85f6b0614445",
   "metadata": {},
   "outputs": [],
   "source": [
    "## load up the task to test models on\n",
    "task = DMTSDataModule(dt_ann=15)  \n",
    "task.setup()\n",
    "tester = task.test_dataloader()\n",
    "inp, out_des, y, test_on = next(iter(tester))\n",
    "\n",
    "## get ouput for each model and store in models_dict as [output], [hidden activity], and [hidden weights]\n",
    "## note this will take a while to run\n",
    "start_time = time.time()\n",
    "\n",
    "for k in models_dict.keys():\n",
    "    \n",
    "    # have model do the task\n",
    "    print(models_dict[k]['params']['label'], 'is running...')\n",
    "    model = models_dict[k]['model']\n",
    "    out_readout, out_hidden, w_hidden, _ = model(inp) #ignoring fourth output which is just process noise\n",
    "    \n",
    "    # store model output + activity in models_dict\n",
    "    models_dict[k]['output'] = out_readout\n",
    "    models_dict[k]['hidden activity'] = out_hidden\n",
    "    models_dict[k]['hidden weights'] = w_hidden\n",
    "    \n",
    "print('elapsed time:', time.time() - start_time)"
   ]
  },
  {
   "cell_type": "code",
   "execution_count": null,
   "id": "8cb3fc83-c237-4a89-835b-8aab37e9ecd1",
   "metadata": {},
   "outputs": [],
   "source": [
    "dt_ann = 15\n",
    "samp_on = int(1000/dt_ann)\n",
    "samp_off = samp_on+int(500/dt_ann)\n",
    "unique_delay_times = torch.unique(test_on)\n",
    "num_delays = len(unique_delay_times)\n",
    "num_samps = 2"
   ]
  },
  {
   "cell_type": "code",
   "execution_count": null,
   "id": "82d4a9dd-d1b0-4745-8c7c-4aede62e3e03",
   "metadata": {},
   "outputs": [],
   "source": [
    "model = models_dict['HePlas1']['model']"
   ]
  },
  {
   "cell_type": "code",
   "execution_count": null,
   "id": "1fecc1bb-4fb0-42e8-9c0f-233d44097b9e",
   "metadata": {},
   "outputs": [],
   "source": [
    "acc_dict = {}\n",
    "plt.figure(figsize=(5,4))\n",
    "\n",
    "for delay in unique_delay_times:\n",
    "\n",
    "    #get trials with same delay length\n",
    "    delay_inds = torch.where(test_on == delay)[0]\n",
    "    accs = np.zeros(len(delay_inds))\n",
    "\n",
    "    for i,trial in enumerate(delay_inds):\n",
    "\n",
    "        #count of number of times NN made right choice during test window + divide by num timepoints\n",
    "        curr_max = out_readout[\n",
    "            trial,\n",
    "            int(test_on[trial]):int(test_on[trial])+int(500/dt_ann),\n",
    "            :-1].argmax(dim=1).cpu().detach().numpy()\n",
    "        accs[i] = (y[trial].item() == curr_max).sum() / len(curr_max)\n",
    "\n",
    "    acc_dict[(delay.item()*dt_ann)/1000] = accs\n",
    "    #average single-trial accuracy across entire test set (1024 trials) and plot as function of delay\n",
    "    print(f\"delay: {(delay.item()*dt_ann)/1000}, {len(delay_inds)} trials, accuracy: {accs.mean()}\")\n"
   ]
  },
  {
   "cell_type": "code",
   "execution_count": null,
   "id": "5b7e6148-af24-40ad-b90c-8d53727adcd1",
   "metadata": {
    "tags": []
   },
   "outputs": [],
   "source": [
    "## plot mean accuracy of output at each delay length\n",
    "## DEBUG- PLOTS SAME FOR EVERY MODEL\n",
    "def plot_acc(out_readout, label):\n",
    "\n",
    "    plt.figure(figsize=(5,4))\n",
    "\n",
    "    for delay in unique_delay_times:\n",
    "\n",
    "        #get trials with same delay length\n",
    "        delay_inds = torch.where(test_on == delay)[0]\n",
    "        accs = np.zeros(len(delay_inds))\n",
    "\n",
    "        for i,trial in enumerate(delay_inds):\n",
    "\n",
    "            #count of number of times NN made right choice during test window + divide by num timepoints\n",
    "            curr_max = out_readout[\n",
    "                trial,\n",
    "                int(test_on[trial]):int(test_on[trial])+int(500/dt_ann),\n",
    "                :-1].argmax(dim=1).cpu().detach().numpy()\n",
    "            accs[i] = (y[trial].item() == curr_max).sum() / len(curr_max)\n",
    "\n",
    "        #average single-trial accuracy across entire test set (1024 trials) and plot as function of delay\n",
    "        plt.scatter((delay.item()*15)/1000, accs.mean())\n",
    "\n",
    "    plt.title(label)"
   ]
  },
  {
   "cell_type": "code",
   "execution_count": null,
   "id": "b5aec77c-31e0-4c29-bd03-7b9448d9a9b6",
   "metadata": {
    "tags": []
   },
   "outputs": [],
   "source": [
    "for k in models_dict.keys():\n",
    "    plot_acc(models_dict[k]['output'], models_dict[k]['params']['label'])"
   ]
  },
  {
   "cell_type": "code",
   "execution_count": null,
   "id": "34417d91-39b8-4fe5-ac0f-ca318d38ac17",
   "metadata": {},
   "outputs": [],
   "source": [
    "#check inputs, desired outputs, and actual outputs for one trial at a time\n",
    "\n",
    "def plot_trial_x(out_readout, trial):\n",
    "\n",
    "    f,ax = plt.subplots(3,1)\n",
    "    with torch.no_grad():\n",
    "        for node in range(3): #2 samples + 1 fixation\n",
    "            ax[0].plot(inp[trial,:,node])\n",
    "            ax[1].plot(out_des[trial,:,node])\n",
    "            ax[2].plot(out_readout[trial][:][:,node])\n",
    "            ax[2].axvline(test_on[trial], linestyle='--', color='gray') #lines around area that loss is calculated on\n",
    "            ax[2].axvline(test_on[trial]+500/15, linestyle='--', color='gray')"
   ]
  },
  {
   "cell_type": "code",
   "execution_count": null,
   "id": "3f71428a-485e-4e9b-9fdc-ac22f9ab3ac6",
   "metadata": {
    "tags": []
   },
   "outputs": [],
   "source": [
    "for k in models_dict.keys():\n",
    "    plot_trial_x(models_dict[k]['output'], 1)"
   ]
  },
  {
   "cell_type": "code",
   "execution_count": null,
   "id": "d48b6de0-d4b4-4c66-b141-a68669d1e331",
   "metadata": {},
   "outputs": [],
   "source": [
    "model = 'HePlas3'\n",
    "\n",
    "W_matrix = models_dict[model]['model'].rnn.W.detach().numpy()\n",
    "\n",
    "out_hidden = models_dict[model]['hidden activity']\n",
    "meanHout = out_hidden.mean(dim=(0,1)).detach().numpy()\n",
    "sorted_inds = np.argsort(meanHout)  #get sorted indices\n",
    "high_act_inds = [i.item() for i in sorted_inds[-5:]] #last elements are highest\n",
    "\n",
    "plt.imshow(W_matrix, origin='lower')\n",
    "ticks = range(0,20)\n",
    "plt.xticks(ticks);\n",
    "plt.yticks(ticks);\n",
    "\n",
    "for node in high_act_inds:\n",
    "    plt.axhline(y=node-0.5, color='w')\n",
    "    plt.axhline(y=node+0.5, color='w')\n",
    "    plt.axvline(x=node-0.5, color='w')\n",
    "    plt.axvline(x=node+0.5, color='w')\n",
    "\n",
    "plt.show()"
   ]
  },
  {
   "cell_type": "code",
   "execution_count": null,
   "id": "9d9729d8-84f6-4750-89f4-71d1b02cf568",
   "metadata": {},
   "outputs": [],
   "source": [
    "# get most active hidden nodes\n",
    "\n",
    "meanHout = out_hidden.mean(dim=1)  #averaged across trial time\n",
    "\n",
    "active_nodes = []\n",
    "inactive_nodes = []\n",
    "\n",
    "for trial in range(meanHout.shape[0]):\n",
    "    hidden_acts = meanHout[trial,:]\n",
    "    sorted_inds = np.argsort(hidden_acts)  #get indices of 10 highest activations\n",
    "    high_act_inds = [i.item() for i in sorted_inds[-10:]]\n",
    "    low_act_inds = [i.item() for i in sorted_inds[:10]]\n",
    "    active_nodes += high_act_inds\n",
    "    inactive_nodes += low_act_inds"
   ]
  },
  {
   "cell_type": "code",
   "execution_count": null,
   "id": "9c71559f-47bc-46c1-8bc5-e2d69690d054",
   "metadata": {},
   "outputs": [],
   "source": [
    "#plot activity,x,u for each node for trial x\n",
    "\n",
    "trial = 1\n",
    "\n",
    "f,ax = plt.subplots(20, figsize=(5,20), sharey=True)\n",
    "\n",
    "with torch.no_grad():\n",
    "    for i in range(20):\n",
    "        ax[i].plot(out_hidden[trial,:,i], color='k')\n",
    "        ax[i].plot(w_hidden[trial,:,i]*2.5, color='r')\n",
    "        ax[i].plot(w_hidden[trial,:,i+20]*25, color='b')"
   ]
  },
  {
   "cell_type": "code",
   "execution_count": null,
   "id": "9f2910f4-5952-4c8e-b88b-25a54f2fafa5",
   "metadata": {},
   "outputs": [],
   "source": [
    "#plot hidden activity for trial 0\n",
    "\n",
    "def plot_hidden(out_hidden)\n",
    "\n",
    "f,ax = plt.subplots(20, figsize=(5,10), sharey=True)\n",
    "\n",
    "with torch.no_grad():\n",
    "    for i in range(20):\n",
    "        ax[i].plot(out_hidden[0,:,i])"
   ]
  },
  {
   "cell_type": "code",
   "execution_count": null,
   "id": "5f47bcbc-9fa1-4c84-b8e9-a67e2db2b857",
   "metadata": {},
   "outputs": [],
   "source": [
    "#plot hidden x activity for trial 0\n",
    "\n",
    "f,ax = plt.subplots(20, figsize=(5,10), sharey=True)\n",
    "\n",
    "with torch.no_grad():\n",
    "    for i in range(20):\n",
    "        ax[i].plot(w_hidden[0,:,i])"
   ]
  },
  {
   "cell_type": "code",
   "execution_count": null,
   "id": "6e0a668d-8976-4612-8424-aa6b6d38bdfb",
   "metadata": {},
   "outputs": [],
   "source": [
    "w_hidden.size()"
   ]
  },
  {
   "cell_type": "code",
   "execution_count": null,
   "id": "6d637da0-c88d-4df3-aa04-299718b363a2",
   "metadata": {},
   "outputs": [],
   "source": [
    "#plot hidden u activity for trial 0\n",
    "\n",
    "f,ax = plt.subplots(20, figsize=(5,10), sharey=True)\n",
    "\n",
    "with torch.no_grad():\n",
    "    for i in range(20):\n",
    "        ax[i].plot(w_hidden[0,:,i+20])"
   ]
  },
  {
   "cell_type": "code",
   "execution_count": null,
   "id": "6ee9e26a-c3dd-4e4d-9c46-6817ee5eac1a",
   "metadata": {
    "tags": []
   },
   "outputs": [],
   "source": [
    "#view output for each sample-delay combo, averaged across all trials\n",
    "\n",
    "f,ax=plt.subplots(2,5, figsize=(20,5))\n",
    "with torch.no_grad():\n",
    "    \n",
    "    for sample in range(num_samps):\n",
    "        for i,delay in enumerate(unique_delay_times):\n",
    "            inds = torch.where((y == sample) & (test_on == delay))[0]\n",
    "            \n",
    "            for node in range(out_readout.size(2)):\n",
    "                ax[sample,i].plot(out_readout[inds].mean(0))\n",
    "                ax[sample,i].axvline(1000/15, linestyle='--', color='gray') #sample on\n",
    "                ax[sample,i].axvline(1500/15, linestyle='--', color='gray') #sample on\n",
    "                ax[sample,i].axvline(delay, linestyle='--', color='gray') #test on\n",
    "                ax[sample,i].axvline(500/15+delay, linestyle='--', color='gray') #test off"
   ]
  },
  {
   "cell_type": "code",
   "execution_count": null,
   "id": "c82f9d88-2df2-4ae0-9a55-da095e065434",
   "metadata": {},
   "outputs": [],
   "source": [
    "#plots all hidden activity for each trial type (takes a while)\n",
    "\n",
    "def plot_all_hidden(out_hidden):\n",
    "\n",
    "    f,ax=plt.subplots(2,5, figsize=(20,5))\n",
    "    with torch.no_grad():\n",
    "\n",
    "        for sample in range(num_samps):\n",
    "            for i,delay in enumerate(unique_delay_times):\n",
    "                inds = torch.where((y == sample) & (test_on == delay))[0]\n",
    "\n",
    "                for node in range(out_hidden.size(2)):\n",
    "                    ax[sample,i].plot(out_hidden[inds].mean(0))"
   ]
  },
  {
   "cell_type": "code",
   "execution_count": null,
   "id": "59da7b29-5a82-4a92-b5eb-8f73cdcce37f",
   "metadata": {},
   "outputs": [],
   "source": [
    "for k in models_dict.keys():\n",
    "    plot_all_hidden(models_dict[k]['hidden activity'])"
   ]
  },
  {
   "cell_type": "code",
   "execution_count": null,
   "id": "99dc588c-8036-489d-8726-7f2a4d0d71b4",
   "metadata": {},
   "outputs": [],
   "source": [
    "out_readout.size()"
   ]
  },
  {
   "cell_type": "code",
   "execution_count": null,
   "id": "dafbfa45-1b26-4b7e-9b8e-fb67d7f29f32",
   "metadata": {},
   "outputs": [],
   "source": [
    "## concatenate hidden layer activity for networks of same type along nodes;\n",
    "## result is 1024 trials * 434 timepoints * 60 nodes\n",
    "plas_hidden = torch.cat([models_dict[k]['hidden activity'] for k in plas_nets], dim=2)\n",
    "dep_hidden = torch.cat([models_dict[k]['hidden activity'] for k in dep_nets], dim=2)"
   ]
  },
  {
   "cell_type": "code",
   "execution_count": null,
   "id": "b0528936-cb4c-4188-adc4-0f0aa262d4d7",
   "metadata": {},
   "outputs": [],
   "source": [
    "plot_all_hidden(plas_hidden)"
   ]
  },
  {
   "cell_type": "code",
   "execution_count": null,
   "id": "17cd2bc1-c066-44cb-8954-b4c194201878",
   "metadata": {},
   "outputs": [],
   "source": [
    "plot_all_hidden(dep_hidden)"
   ]
  },
  {
   "cell_type": "code",
   "execution_count": null,
   "id": "5f1688b7-5d9c-4940-b611-28c2c26d677e",
   "metadata": {},
   "outputs": [],
   "source": []
  },
  {
   "cell_type": "code",
   "execution_count": null,
   "id": "9a66a0b9-0924-456d-854b-07eaf6a57ece",
   "metadata": {},
   "outputs": [],
   "source": [
    "## sample activity\n",
    "print(plas_hidden[:, samp_on:samp_off, :].mean())\n",
    "dep_hidden[:, samp_on:samp_off, :].mean()"
   ]
  },
  {
   "cell_type": "code",
   "execution_count": null,
   "id": "ef547367-0c3e-4e20-b83c-2dad9c51a52d",
   "metadata": {},
   "outputs": [],
   "source": [
    "hidden = plas_hidden"
   ]
  },
  {
   "cell_type": "code",
   "execution_count": null,
   "id": "f732a460-a2ae-4484-a704-4de1dcd9b5e6",
   "metadata": {},
   "outputs": [],
   "source": [
    "mean_delay_act = np.zeros(5)\n",
    "mean_test_act = np.zeros(5)\n",
    "\n",
    "for n,i in enumerate(unique_delay_times):\n",
    "    \n",
    "    #find trials with this delay length\n",
    "    inds = torch.where(test_on == i)[0].tolist()\n",
    "    \n",
    "    #split up activity by task event\n",
    "    delay_activity = hidden[inds, samp_off:int(i), :]\n",
    "    test_activity = hidden[inds, int(i):int(i)+int(500/dt_ann), :]\n",
    "    \n",
    "    mean_delay_act[n] = (delay_activity.mean().item())\n",
    "    mean_test_act[n] = (test_activity.mean().item())\n",
    "    \n",
    "print('mean delay activity:', mean_delay_act.mean().item())\n",
    "print('mean test activity:', mean_test_act.mean().item())"
   ]
  },
  {
   "cell_type": "markdown",
   "id": "4cbdc80e-c615-4e1f-a714-a88e123dd529",
   "metadata": {},
   "source": [
    "plastic:\n",
    "- mean delay activity: 0.0628472201526165\n",
    "- mean test activity: 0.4721239745616913\n",
    "\n",
    "depressing:\n",
    "- mean delay activity: 0.06712958887219429\n",
    "- mean test activity: 0.4595801293849945"
   ]
  },
  {
   "cell_type": "code",
   "execution_count": null,
   "id": "f88884ad-6162-4627-a15b-4cb7bcca2be0",
   "metadata": {},
   "outputs": [],
   "source": []
  },
  {
   "cell_type": "code",
   "execution_count": null,
   "id": "be73b91f-0fee-48b2-b8d4-ab541e109462",
   "metadata": {},
   "outputs": [],
   "source": []
  },
  {
   "cell_type": "code",
   "execution_count": null,
   "id": "a1d05f4b-58cb-4347-9a72-103f0b24b931",
   "metadata": {},
   "outputs": [],
   "source": []
  },
  {
   "cell_type": "code",
   "execution_count": null,
   "id": "fd918200-6a54-4124-afc6-626d1cbaf877",
   "metadata": {},
   "outputs": [],
   "source": []
  },
  {
   "cell_type": "code",
   "execution_count": null,
   "id": "24c127f3-68ee-4dd7-ac5e-7c3db03d4180",
   "metadata": {},
   "outputs": [],
   "source": []
  },
  {
   "cell_type": "code",
   "execution_count": null,
   "id": "b99f469d-bc7e-4986-adbf-b877eea2c926",
   "metadata": {},
   "outputs": [],
   "source": []
  },
  {
   "cell_type": "code",
   "execution_count": null,
   "id": "4944310f-aebe-476a-92cc-d72ccc379708",
   "metadata": {},
   "outputs": [],
   "source": []
  },
  {
   "cell_type": "code",
   "execution_count": null,
   "id": "de893d9d-bb1f-41a9-a343-f5b310e50822",
   "metadata": {},
   "outputs": [],
   "source": []
  },
  {
   "cell_type": "code",
   "execution_count": null,
   "id": "54ed934a-5e6f-44df-b70e-f4fc2b48dc6a",
   "metadata": {},
   "outputs": [],
   "source": []
  },
  {
   "cell_type": "code",
   "execution_count": null,
   "id": "334f64ee-4678-4467-9a5a-2dbfb6d934e7",
   "metadata": {},
   "outputs": [],
   "source": []
  },
  {
   "cell_type": "code",
   "execution_count": null,
   "id": "cda63919-d629-4dab-a8cd-614a3b8f00ff",
   "metadata": {},
   "outputs": [],
   "source": []
  },
  {
   "cell_type": "code",
   "execution_count": null,
   "id": "24605d85-5d98-4e28-a6d1-9d8af7db9607",
   "metadata": {},
   "outputs": [],
   "source": []
  },
  {
   "cell_type": "code",
   "execution_count": null,
   "id": "f451017a-d739-49ef-9f2c-4d718116fe2a",
   "metadata": {},
   "outputs": [],
   "source": []
  },
  {
   "cell_type": "code",
   "execution_count": null,
   "id": "51d6054f-8c5b-47b3-a4ca-7a5f5b342fea",
   "metadata": {},
   "outputs": [],
   "source": []
  },
  {
   "cell_type": "code",
   "execution_count": null,
   "id": "e9784f31-3591-4ccb-b51f-208f61298b5f",
   "metadata": {
    "tags": []
   },
   "outputs": [],
   "source": [
    "#returns activations for nodes and weights as trials * time * hidden-nodes matrix\n",
    "with torch.no_grad():\n",
    "    unique_delay_times = torch.unique(test_on)\n",
    "    act_neur = []\n",
    "    act_syn = []\n",
    "\n",
    "    for i in unique_delay_times:\n",
    "        act_vs_time_neur = []\n",
    "        act_vs_time_syn = []\n",
    "\n",
    "        for j in range(num_samps):                \n",
    "            inds = torch.where((y == j) & (test_on == i))[0]\n",
    "\n",
    "            mean_act_neur = out_hidden[inds].mean(0) #average for all hidden-layer nodes?\n",
    "            mean_act_syn = w_hidden[inds].mean(0)\n",
    "\n",
    "            act_vs_time_neur.append(mean_act_neur- mean_act_neur[int(1000/dt_ann)]) #not sure what the subtraction part means\n",
    "            act_vs_time_syn.append(mean_act_syn - mean_act_syn[int(1000/dt_ann)])\n",
    "\n",
    "        act_neur.append(act_vs_time_neur)\n",
    "        act_syn.append(act_vs_time_syn)"
   ]
  },
  {
   "cell_type": "code",
   "execution_count": null,
   "id": "efbacbbc-d862-47e1-81b4-6df82dcbab98",
   "metadata": {},
   "outputs": [],
   "source": [
    "unique_delay_times = [d.item() for d in torch.unique(test_on)]\n",
    "samps = [0,1]"
   ]
  },
  {
   "cell_type": "code",
   "execution_count": null,
   "id": "3067d618-c9a8-456d-ae21-99f8bdfc87f1",
   "metadata": {},
   "outputs": [],
   "source": [
    "#create trial type dictionary\n",
    "trial_d = {}\n",
    "trial_d[0] = dict.fromkeys(unique_delay_times)\n",
    "trial_d[1] = dict.fromkeys(unique_delay_times)\n",
    "\n",
    "with torch.no_grad():\n",
    "    for delay in unique_delay_times:\n",
    "        for samp in range(num_samps): \n",
    "            inds = torch.where((y == samp) & (test_on == delay))[0]\n",
    "            trial_d[samp][delay] = {'inds' : inds}\n",
    "trial_d"
   ]
  },
  {
   "cell_type": "code",
   "execution_count": null,
   "id": "0052cdcb-8545-4448-a67f-1856783b33b2",
   "metadata": {},
   "outputs": [],
   "source": [
    "# look at top 10 most active hidden nodes for each trial\n",
    "with torch.no_grad():\n",
    "    \n",
    "    for delay in unique_delay_times:\n",
    "        for samp in range(num_samps):\n",
    "            \n",
    "            inds = trial_d[samp][delay]['inds']\n",
    "            Hout = out_hidden[inds,:,:]\n",
    "            meanHout = Hout.mean(dim=1)  #averaged across trial time\n",
    "    \n",
    "            active_nodes = []\n",
    "            inactive_nodes = []\n",
    "        \n",
    "            for trial in range(meanHout.shape[0]):\n",
    "                hidden_acts = meanHout[trial,:]\n",
    "                sorted_inds = np.argsort(hidden_acts)  #get indices of 10 highest activations\n",
    "                high_act_inds = [i.item() for i in sorted_inds[-10:]]\n",
    "                low_act_inds = [i.item() for i in sorted_inds[:10]]\n",
    "                active_nodes += high_act_inds\n",
    "                inactive_nodes += low_act_inds\n",
    "            \n",
    "            trial_d[samp][delay]['active_nodes'] = set(active_nodes)\n",
    "            trial_d[samp][delay]['inactive_nodes'] = set(inactive_nodes)\n",
    "            \n",
    "for samp in range(num_samps):\n",
    "    for delay in unique_delay_times:\n",
    "        print('samp:', samp)\n",
    "        print('delay:', delay)\n",
    "        print('active_nodes:', trial_d[samp][delay]['active_nodes'])\n",
    "        #print('inactive_nodes:', trial_d[samp][delay]['inactive_nodes'])\n",
    "        print('')"
   ]
  },
  {
   "cell_type": "code",
   "execution_count": null,
   "id": "2edc39b2-7a02-47e9-a2d0-cbeb98ced067",
   "metadata": {},
   "outputs": [],
   "source": [
    "w_hidden.size()"
   ]
  },
  {
   "cell_type": "code",
   "execution_count": null,
   "id": "00f479e1-2590-40b8-b6f3-83757420ec3f",
   "metadata": {},
   "outputs": [],
   "source": [
    "# time * nodes\n",
    "with torch.no_grad():\n",
    "    plt.figure(figsize=(10,2))\n",
    "    plt.imshow(out_hidden.mean(dim=0).T, cmap='hot', interpolation='nearest')\n",
    "    plt.show()"
   ]
  },
  {
   "cell_type": "code",
   "execution_count": null,
   "id": "63f1892c-53e8-45e4-9afc-1ac0a2cfd4be",
   "metadata": {},
   "outputs": [],
   "source": [
    "# time * nodes\n",
    "with torch.no_grad():\n",
    "    plt.figure(figsize=(10,2))\n",
    "    plt.imshow(out_hidden.mean(dim=0).T, cmap='hot', interpolation='nearest')\n",
    "    plt.show()"
   ]
  },
  {
   "cell_type": "code",
   "execution_count": null,
   "id": "6c54a5be-4d3a-4c3b-8df8-a271debcc070",
   "metadata": {},
   "outputs": [],
   "source": [
    "# trials * nodes\n",
    "with torch.no_grad():\n",
    "    plt.figure(figsize=(15,2))\n",
    "    plt.imshow(out_hidden.mean(dim=1).T, cmap='hot', interpolation='nearest')\n",
    "    plt.show()"
   ]
  },
  {
   "cell_type": "code",
   "execution_count": null,
   "id": "45d46f74-c827-42be-9287-85eb7f6cc835",
   "metadata": {},
   "outputs": [],
   "source": [
    "# trials * time\n",
    "with torch.no_grad():\n",
    "    plt.figure(figsize=(10,3))\n",
    "    plt.imshow(out_hidden.mean(dim=2).T, cmap='hot', interpolation='nearest')\n",
    "    plt.show()"
   ]
  },
  {
   "cell_type": "code",
   "execution_count": null,
   "id": "cf90d659-ad41-4fe8-8dff-698d2d60f80f",
   "metadata": {},
   "outputs": [],
   "source": [
    "#get trial indices sorted by delay\n",
    "sorted_trial_inds0 = []\n",
    "sorted_trial_inds1 = []\n",
    "for delay in unique_delay_times: #sort by delay length\n",
    "    sorted_trial_inds0 += [x.item() for x in trial_d[0][delay]['inds']]\n",
    "    sorted_trial_inds1 += [x.item() for x in trial_d[1][delay]['inds']]\n",
    "    \n",
    "sorted_out_hidden = out_hidden.clone().detach()\n",
    "sorted_out_hidden0 = torch.stack([sorted_out_hidden[trial,:,:] for trial in sorted_trial_inds0])\n",
    "sorted_out_hidden1 = torch.stack([sorted_out_hidden[trial,:,:] for trial in sorted_trial_inds1])\n",
    "all_sorted_hidden = torch.cat((sorted_out_hidden0, sorted_out_hidden1))"
   ]
  },
  {
   "cell_type": "code",
   "execution_count": null,
   "id": "ad666626-45fa-4065-9a45-2d1b39ae727f",
   "metadata": {
    "tags": []
   },
   "outputs": [],
   "source": [
    "# trials * time, sorted by sample and delay length\n",
    "with torch.no_grad():\n",
    "    plt.figure(figsize=(10,3))\n",
    "    plt.imshow(all_sorted_hidden.mean(dim=2).T, cmap='hot', interpolation='nearest')\n",
    "    plt.show()"
   ]
  },
  {
   "cell_type": "code",
   "execution_count": null,
   "id": "ea22e99a-f8ff-47d4-b0a0-fac23158df0f",
   "metadata": {
    "tags": []
   },
   "outputs": [],
   "source": [
    "# time * nodes\n",
    "with torch.no_grad():\n",
    "\n",
    "    # sorted_trial_inds = []\n",
    "    f,ax = plt.subplots(2,5, figsize=(15,5), sharex=True, sharey=True)\n",
    "\n",
    "    for samp in range(num_samps):\n",
    "        for x,delay in enumerate(unique_delay_times):\n",
    "            \n",
    "            inds = trial_d[samp][delay]['inds']\n",
    "            act = torch.stack([out_hidden[trial,:,:] for trial in inds])\n",
    "            active_nodes = list(trial_d[samp][delay]['active_nodes'])\n",
    "            img = ax[samp,x].imshow(act[:,:,active_nodes].mean(dim=0).T, cmap='hot', interpolation='nearest')\n",
    "            #img = ax[samp,x].imshow(act.mean(dim=0).T, cmap='hot', interpolation='nearest')\n",
    "            ax[samp,x].set_aspect('auto') #so x axis doesn't get squished"
   ]
  },
  {
   "cell_type": "code",
   "execution_count": null,
   "id": "479db860-35b3-4564-989c-51ef3c9d9166",
   "metadata": {},
   "outputs": [],
   "source": [
    "# time * nodes\n",
    "with torch.no_grad():\n",
    "\n",
    "    # sorted_trial_inds = []\n",
    "    f,ax = plt.subplots(1,5, figsize=(15,3), sharex=True, sharey=True)\n",
    "\n",
    "    for x,delay in enumerate(unique_delay_times):\n",
    "\n",
    "        inds0 = trial_d[0][delay]['inds']\n",
    "        act0 = torch.stack([out_hidden[trial,:,:] for trial in inds0])\n",
    "        active_nodes0 = list(trial_d[0][delay]['active_nodes'])\n",
    "        \n",
    "        inds1 = trial_d[1][delay]['inds']\n",
    "        act1 = torch.stack([out_hidden[trial,:,:] for trial in inds1])\n",
    "        active_nodes1 = list(trial_d[1][delay]['active_nodes'])\n",
    "        \n",
    "        b = np.array([len(act0), len(act1)])\n",
    "        min_trials = b.min()-1\n",
    "        all_active = list(set(active_nodes0+active_nodes1))\n",
    "        \n",
    "        diff = act0[:min_trials,:,:] - act1[:min_trials,:,:]\n",
    "        \n",
    "        img = ax[x].imshow(diff[:,:,all_active].mean(dim=0).T, cmap='bwr', interpolation='nearest')\n",
    "        #img = ax[samp,x].imshow(act.mean(dim=0).T, cmap='hot', interpolation='nearest')\n",
    "        ax[x].set_aspect('auto') #so x axis doesn't get squished\n",
    "        ax[x].set_title(delay)"
   ]
  },
  {
   "cell_type": "code",
   "execution_count": null,
   "id": "31002632-b22e-4821-8cb2-0331c898603c",
   "metadata": {},
   "outputs": [],
   "source": [
    "# time * nodes\n",
    "with torch.no_grad():\n",
    "\n",
    "    # sorted_trial_inds = []\n",
    "    f,ax = plt.subplots(1,5, figsize=(15,3), sharex=True, sharey=True)\n",
    "\n",
    "    for x,delay in enumerate(unique_delay_times):\n",
    "\n",
    "        inds0 = trial_d[0][delay]['inds']\n",
    "        act0 = torch.stack([out_hidden[trial,:,:] for trial in inds0])\n",
    "        active_nodes0 = list(trial_d[0][delay]['active_nodes'])\n",
    "        \n",
    "        inds1 = trial_d[1][delay]['inds']\n",
    "        act1 = torch.stack([out_hidden[trial,:,:] for trial in inds1])\n",
    "        \n",
    "        b = np.array([len(act0), len(act1)])\n",
    "        min_trials = b.min()-1\n",
    "        \n",
    "        diff = act0[:min_trials,:,:] - act1[:min_trials,:,:]\n",
    "        \n",
    "        img = ax[x].imshow(diff[:,:,:].mean(dim=0).T, cmap='bwr', interpolation='nearest')\n",
    "        #img = ax[samp,x].imshow(act.mean(dim=0).T, cmap='hot', interpolation='nearest')\n",
    "        ax[x].set_aspect('auto') #so x axis doesn't get squished\n",
    "        ax[x].set_title(delay)"
   ]
  },
  {
   "cell_type": "code",
   "execution_count": null,
   "id": "a19d570b-bc84-4d14-8dd8-4ae90ded4953",
   "metadata": {},
   "outputs": [],
   "source": []
  },
  {
   "cell_type": "code",
   "execution_count": null,
   "id": "b385ceed-fee1-443c-8ab4-e392415244b2",
   "metadata": {},
   "outputs": [],
   "source": [
    "E_I = model.rnn.D.sum(axis=0) #get E/I as list of +1's and -1's"
   ]
  },
  {
   "cell_type": "code",
   "execution_count": null,
   "id": "7aefe8b9-101a-40e8-9ea6-2d491852d587",
   "metadata": {},
   "outputs": [],
   "source": [
    "F_inds = model.rnn.facil_syn_inds"
   ]
  },
  {
   "cell_type": "code",
   "execution_count": null,
   "id": "61199859-8019-45db-8ead-8fb7e4ec28ee",
   "metadata": {},
   "outputs": [],
   "source": [
    "D_inds = model.rnn.depress_syn_inds"
   ]
  },
  {
   "cell_type": "code",
   "execution_count": null,
   "id": "3552e2eb-4090-4141-ad45-3085aefb3982",
   "metadata": {},
   "outputs": [],
   "source": [
    "ex_bool = E_I==1\n",
    "in_bool = E_I==-1"
   ]
  },
  {
   "cell_type": "code",
   "execution_count": null,
   "id": "91fedcf5-00c9-4ccf-b297-1553a16a4114",
   "metadata": {},
   "outputs": [],
   "source": [
    "ex_bool[:50] = False\n",
    "ex_fac_bool = ex_bool"
   ]
  },
  {
   "cell_type": "code",
   "execution_count": null,
   "id": "e742f9ef-be88-4a04-8c31-ab0615399a28",
   "metadata": {},
   "outputs": [],
   "source": [
    "ex_bool[50:] = False\n",
    "ex_dep_bool = ex_bool"
   ]
  },
  {
   "cell_type": "code",
   "execution_count": null,
   "id": "27ebac71-718e-41f9-9b89-efa07cbc7352",
   "metadata": {},
   "outputs": [],
   "source": [
    "in_bool[:50] = False\n",
    "in_fac_bool = in_bool"
   ]
  },
  {
   "cell_type": "code",
   "execution_count": null,
   "id": "ea6123fa-21d7-4b76-b6ea-5aaf57cc2f83",
   "metadata": {},
   "outputs": [],
   "source": [
    "in_bool[50:] = False\n",
    "in_dep_bool = in_bool"
   ]
  },
  {
   "cell_type": "code",
   "execution_count": null,
   "id": "41237247-01be-48e9-b1a3-d22edff861aa",
   "metadata": {},
   "outputs": [],
   "source": [
    "#get trial indices sorted by delay\n",
    "sorted_trial_inds0 = []\n",
    "sorted_trial_inds1 = []\n",
    "for delay in unique_delay_times: #sort by delay length\n",
    "    sorted_trial_inds0 += [x.item() for x in trial_d[0][delay]['inds']]\n",
    "    sorted_trial_inds1 += [x.item() for x in trial_d[1][delay]['inds']]\n",
    "    \n",
    "sorted_out_hidden = out_hidden.clone().detach()\n",
    "sorted_out_hidden0 = torch.stack([sorted_out_hidden[trial,:,:] for trial in sorted_trial_inds0])\n",
    "sorted_out_hidden1 = torch.stack([sorted_out_hidden[trial,:,:] for trial in sorted_trial_inds1])\n",
    "all_sorted_hidden = torch.cat((sorted_out_hidden0, sorted_out_hidden1))"
   ]
  },
  {
   "cell_type": "code",
   "execution_count": null,
   "id": "1b8bb546-607b-4e7a-9093-a53c6ef30402",
   "metadata": {},
   "outputs": [],
   "source": [
    "# trials * time, sorted by sample and delay length\n",
    "with torch.no_grad():\n",
    "    plt.figure(figsize=(10,3))\n",
    "    plt.imshow(all_sorted_hidden[:,:,E_I_bool].mean(dim=2).T, cmap='hot', interpolation='nearest')\n",
    "    plt.show()"
   ]
  },
  {
   "cell_type": "code",
   "execution_count": null,
   "id": "79046b78-174b-40f3-8f31-2c216dbaff23",
   "metadata": {},
   "outputs": [],
   "source": [
    "model.rnn.weight_ho"
   ]
  },
  {
   "cell_type": "code",
   "execution_count": null,
   "id": "65dee4cc-10ac-4afb-aa17-0eced9036102",
   "metadata": {},
   "outputs": [],
   "source": []
  }
 ],
 "metadata": {
  "kernelspec": {
   "display_name": "Python 3 (ipykernel)",
   "language": "python",
   "name": "python3"
  },
  "language_info": {
   "codemirror_mode": {
    "name": "ipython",
    "version": 3
   },
   "file_extension": ".py",
   "mimetype": "text/x-python",
   "name": "python",
   "nbconvert_exporter": "python",
   "pygments_lexer": "ipython3",
   "version": "3.7.13"
  }
 },
 "nbformat": 4,
 "nbformat_minor": 5
}
